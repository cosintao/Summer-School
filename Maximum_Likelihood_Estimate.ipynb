{
 "cells": [
  {
   "cell_type": "markdown",
   "metadata": {},
   "source": [
    "# Maximum Likelihood Estimate(MLE) 最大似然估计"
   ]
  },
  {
   "cell_type": "markdown",
   "metadata": {},
   "source": [
    "Name: [黄京凤]\n"
   ]
  },
  {
   "cell_type": "markdown",
   "metadata": {},
   "source": [
    "<script type=\"text/javascript\" src=\"http://cdn.mathjax.org/mathjax/latest/MathJax.js?config=default\"></script><font size=4>\n",
    "\n",
    "1.设总体概率函数如下, $x_1, \\dots ,x_n$是样本, 试求未知参数的最大似然估计.\n",
    "\n",
    "(1) $p(x; \\theta)=\\sqrt{\\theta}x^{\\sqrt{\\theta}-1}, 0<x<1, \\theta>0$;\n",
    "\n",
    "(2) $p(x; \\theta)=\\theta c^{\\theta}x^{-(\\theta+1)}, x>c, c>0, \\theta>1$;\n",
    "\n",
    "\n",
    "\n",
    "\n",
    "\n",
    "</font>"
   ]
  },
  {
   "cell_type": "markdown",
   "metadata": {},
   "source": [
    "解:(1)、似然函数为：$$L(\\theta)=(\\sqrt{\\theta})^n.(x_1\\cdots x_n)^{\\sqrt{\\theta}-1}$$两边取对数得：\n",
    "$$ln(L(\\theta))=\\frac{n}{2}.ln(\\theta)+(\\sqrt{\\theta}-1).(ln(x_1)+\\cdots+ln(x_n))$$.\n",
    "然后对$\\theta$求导，\n",
    "$$\\frac{\\partial\\ln(\\theta)}{\\partial\\theta}=\\frac{n}{2\\theta}+(ln(x_1)+\\cdots+ln(x_n)).\\frac{1}{2\\sqrt{\\theta}}$$\n",
    "再令导函数等于0得到最大似然估计值\n",
    "解得$$\\hat{\\theta}=\\left(\\frac{1}{n}.\\sum_{i=1}^{n}ln(x_i)\\right)^{-2}.$$\n",
    "(2)、似然函数为：$$L(\\theta)=(\\theta)^n.c^{n\\theta}.(x_1\\cdots x_n)^{-(\\theta+1)}$$对似然函数取对数得：\n",
    "$$ln(L(\\theta))=nln(\\theta)+n(\\theta)ln(c)-(\\theta+1)(ln(x_1)+\\cdots+ln(x_n))$$\n",
    "对$ln(\\theta)=0$关于$\\theta$求导,\n",
    "$$\\frac{\\partial\\ln(\\theta)}{\\partial(\\theta)}=\\frac{n}{(\\theta)}+nln(c)-(ln(x_1)+\\cdots+ln(x_n))$$\n",
    "再令$$\\frac{\\partial\\ln(\\theta)}{\\partial(\\theta)}=0$$得最大似然估计值\n",
    "$$\\hat{\\theta}=\\left(\\frac{1}{n}\\sum_{i=1}^{n}ln(x_i)-ln(c)\\right)^{-1}.$$"
   ]
  },
  {
   "cell_type": "markdown",
   "metadata": {},
   "source": [
    "<script type=\"text/javascript\" src=\"http://cdn.mathjax.org/mathjax/latest/MathJax.js?config=default\"></script><font size=4>\n",
    "\n",
    "2.假如有一个罐子, 里面有黑白两种颜色的球, 数目多少不知, 两种颜色的比例也不知. 我们想知道罐中白球和黑球的比例, 但我们不能把罐中的球全部拿出来数(球太多了, 耽误我上王者). 现在我们可以进行100次实验, 每次实验都拿出10个球, 记录下白球的数量. 假设这100次实验都相与独立的, 请问罐中白球所占的比例最有可能是多少? 实验的数据如下:\n",
    "\n",
    "\n",
    "| 拿出白球的数量 | 0 | 1 | 2 | 3 | 4 | 5 | 6 | 7 | 8 | 9 | 10 |\n",
    "|:----------------:|:-:|:-:|:-:|:-:|:-:|:-:|:-:|:-:|:-:|:-:|:--:|\n",
    "| 实验次数      | 0 | 1 | 6 | 7 | 23 | 26 | 21 | 12 | 3 | 1 | 0 |\n",
    "\n",
    "tips: 变量X为每次实验中拿出白球的个数, 且X服从二项分布Bin(x|10, p).\n",
    "\n",
    "\n",
    "</font>"
   ]
  },
  {
   "cell_type": "markdown",
   "metadata": {},
   "source": [
    "解:因为X服从二项分布Bin(x|10,p),即：\n",
    "$$P(X=x)=\\begin{pmatrix}10\\\\x\\end{pmatrix}p^x(1-p)^{10-x}$$\n",
    "设$x_1,x_2,\\cdots,x_100$为样本，则其似然函数为\n",
    "$$L(p)=p^{\\sum_{i=1}^{100}x_i}(1-p)^{10*100-\\sum_{i=1}^{100}x_i}$$\n",
    "对数似然函数为：\n",
    "$$ln(L(p))=\\sum_{i=1}^{100}x_iln(p)+(10*100-\\sum_{i=1}^{100}x_i)ln(1-p).$$\n",
    "关于p求导并且令导函数为0得：\n",
    "$$\\frac{\\partial\\ln(L(p))}{\\partial p}=\\frac{\\sum_{i=1}^{100}x_i}{p}-\\frac{10*100-\\sum_{i=1}^{100}x_i}{1-p}=0$$\n",
    "解得最大似然估计值为：\n",
    "$$\\hat{p}=\\frac{\\sum_{i=1}^{100}x_i}{1000}$$\n",
    "由实验数据得：$\\sum_{i=1}^{100}x_i=499$，所以$\\hat{p}=0.499$.\n",
    "即白球所占的比例最有可能是0.499."
   ]
  },
  {
   "cell_type": "markdown",
   "metadata": {},
   "source": [
    "遇到不会输入的数学符号, 可以参考《LATEX数学符号表.pdf》文献中的说明, Markdown的公式输入与Latex相类似, 现在多掌握一下Markdown的公式输入, 对你以后的Latex写作是很有帮助."
   ]
  },
  {
   "cell_type": "markdown",
   "metadata": {},
   "source": [
    "参考文献:\n",
    "\n",
    "[1]茆诗松, 程依明, 濮晓龙, 等. 概率论与数理统计教程 (第二版). 北京: 高等教育出版社, 2011."
   ]
  },
  {
   "cell_type": "code",
   "execution_count": 4,
   "metadata": {},
   "outputs": [
    {
     "ename": "SyntaxError",
     "evalue": "invalid character in identifier (<ipython-input-4-1fe235e0f281>, line 1)",
     "output_type": "error",
     "traceback": [
      "\u001b[1;36m  File \u001b[1;32m\"<ipython-input-4-1fe235e0f281>\"\u001b[1;36m, line \u001b[1;32m1\u001b[0m\n\u001b[1;33m    是不是当n为确切值时，位置发生了稍微的变化？\\sum_{i=1}^{n},\\sum_{i=1}^{100}\u001b[0m\n\u001b[1;37m                         ^\u001b[0m\n\u001b[1;31mSyntaxError\u001b[0m\u001b[1;31m:\u001b[0m invalid character in identifier\n"
     ]
    }
   ],
   "source": [
    "是不是当n为确切值时，位置发生了稍微的变化？\\sum_{i=1}^{n},\\sum_{i=1}^{100}\n",
    "用latex写出来的公式，真的很漂亮！不过不是很懂为什么联合概率最大就是最大似然估计值？其中的关系不是很清楚~"
   ]
  },
  {
   "cell_type": "markdown",
   "metadata": {},
   "source": [
    "如果你有什么疑问或者收获, 你可以在这里记录下来.\n",
    "###"
   ]
  },
  {
   "cell_type": "code",
   "execution_count": null,
   "metadata": {
    "collapsed": true
   },
   "outputs": [],
   "source": []
  }
 ],
 "metadata": {
  "kernelspec": {
   "display_name": "Python 3",
   "language": "python",
   "name": "python3"
  },
  "language_info": {
   "codemirror_mode": {
    "name": "ipython",
    "version": 3
   },
   "file_extension": ".py",
   "mimetype": "text/x-python",
   "name": "python",
   "nbconvert_exporter": "python",
   "pygments_lexer": "ipython3",
   "version": "3.6.1"
  }
 },
 "nbformat": 4,
 "nbformat_minor": 2
}
