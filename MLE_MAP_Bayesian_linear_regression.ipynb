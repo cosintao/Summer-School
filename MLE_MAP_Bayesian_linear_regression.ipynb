{
 "cells": [
  {
   "cell_type": "markdown",
   "metadata": {},
   "source": [
    "# MLE & MAP & Bayesian linear regression"
   ]
  },
  {
   "cell_type": "markdown",
   "metadata": {},
   "source": [
    "Name: [黄京凤]\n",
    "\n",
    "Skeleton framework for you to fill in (Code you need to provide is marked by `###`):"
   ]
  },
  {
   "cell_type": "code",
   "execution_count": 100,
   "metadata": {
    "collapsed": true
   },
   "outputs": [],
   "source": [
    "import scipy.io as sio\n",
    "import matplotlib.pyplot as plt  \n",
    "import numpy as np \n",
    "from numpy import linalg\n",
    "import pandas as pd"
   ]
  },
  {
   "cell_type": "code",
   "execution_count": 101,
   "metadata": {
    "collapsed": true
   },
   "outputs": [],
   "source": [
    "def make_data(W, m=20, area_interval=[70,200], noise_mu=0, noise_sigma=400):\n",
    "    \"\"\"\n",
    "    Function: Creat the simulation data\n",
    "    Input:    \n",
    "              W:                The real weight\n",
    "              m:                The number of data\n",
    "              area_interval:    The area interval of house\n",
    "              noise_mu:         The expectation of Gaussian noise\n",
    "              noise_sigma:      The variance of Gaussian noise\n",
    "    Output:   \n",
    "              x:                The area of house\n",
    "              y:                The price of house\n",
    "    \"\"\"\n",
    "    \n",
    "    x = (area_interval[1]-area_interval[0]) * np.random.rand(20,1) + area_interval[0]\n",
    "    x = np.column_stack( (x , np.ones([m,1])))\n",
    "    y = x.dot(W.T) + (np.random.randn(m)*np.sqrt(noise_sigma) + noise_mu)\n",
    "    return [x, y]"
   ]
  },
  {
   "cell_type": "code",
   "execution_count": 102,
   "metadata": {},
   "outputs": [
    {
     "data": {
      "image/png": "[encoded data removed]",
      "text/plain": [
       "<matplotlib.figure.Figure at 0xd13098a908>"
      ]
     },
     "metadata": {},
     "output_type": "display_data"
    }
   ],
   "source": [
    "# make data\n",
    "W_real = np.array([3, 30])\n",
    "train_m = 20\n",
    "[train_x, train_y] = make_data(W_real,train_m)\n",
    "[test_x, test_y] = make_data(W_real)\n",
    "\n",
    "# draw the train data\n",
    "plt.plot(train_x[:,0], train_y, 'o')\n",
    "plt.plot(train_x[:,0], train_x.dot(W_real))\n",
    "plt.show()"
   ]
  },
  {
   "cell_type": "markdown",
   "metadata": {},
   "source": [
    "# Maximum Likelihood Estimation"
   ]
  },
  {
   "cell_type": "code",
   "execution_count": 103,
   "metadata": {
    "collapsed": true
   },
   "outputs": [],
   "source": [
    "def MLE_train(x, y):\n",
    "    \"\"\"\n",
    "    Function: Calculate the weight and beta by Maximum Likelihood Estimation\n",
    "    Input:    \n",
    "              x:                Design matrix of training data, size:[num_sample dimension]\n",
    "              y:                Training real value, size: [num_sample 1]\n",
    "    Output:   \n",
    "              W:                The weight which be calculated by Maximum Likelihood Estimation\n",
    "              beta:             The beta which be calculated by Maximum Likelihood Estimation\n",
    "    \"\"\"\n",
    "    \n",
    "    # Your code\n",
    "    # Here you should calculate the weight.\n",
    "    # You may use two functions:\n",
    "    # 1. linalg.pinv(). This function is used to solve the pseudo-inverse of the matrix.\n",
    "    # You can know more about it from https://docs.scipy.org/doc/numpy/reference/generated/numpy.linalg.pinv.html.\n",
    "    # 2. np.dot(). This function is dot product of two arrays.\n",
    "    # You can know more about it from https://docs.scipy.org/doc/numpy/reference/generated/numpy.dot.html.\n",
    "    W = linalg.pinv(x.T.dot(x)).dot(x.T).dot(y)\n",
    "    \n",
    "    tmp = y-x.dot(W.T)\n",
    "    beta = tmp.T.dot(tmp)/tmp.shape[0]\n",
    "    return [W, beta]"
   ]
  },
  {
   "cell_type": "code",
   "execution_count": 104,
   "metadata": {
    "collapsed": true
   },
   "outputs": [],
   "source": [
    "def MLE_test(x, y, W, problem_type='regression', retained_digit=0):\n",
    "    \"\"\"\n",
    "    Function: Predict the testing data\n",
    "    Input:    \n",
    "              x:                Design matrix of training data, size:[num_sample dimension]\n",
    "              y:                Training real value, size: [num_sample 1]\n",
    "              W:                The weight which be calculated by Maximum Likelihood Estimation\n",
    "              problem_type:     The type of problem which you want to slove. Only regression and classification\n",
    "              retained_digit:   The parameter used to classification\n",
    "    Output:   \n",
    "              t:                Prediction of testing data\n",
    "    \"\"\"\n",
    "    \n",
    "    # Your code\n",
    "    # Here, the variable t is the prediction of testing data, and you should calculate it.\n",
    "    t = x.dot(W.T)+ beta\n",
    "    \n",
    "    # Three kinds of errors\n",
    "    er = t - y\n",
    "    MSE = (er**2).mean()                      # Mean Squared Error\n",
    "    MAE = abs(er).mean()                      # Average Absolute Error\n",
    "    SD = np.sqrt((( er-er.mean())**2).mean()) # Error Standard Deviation\n",
    "    \n",
    "    if problem_type=='classification':\n",
    "        acc = np.equal(np.round(t, retained_digit), y).mean() * 100\n",
    "        text = \"The Linear Regression's accuracy is %.2f%%.\" %(acc)\n",
    "        print(text)\n",
    "    \n",
    "    obj = pd.Series([MSE,MAE,SD], index=['MSE','MAE','SD'])\n",
    "    print(obj)\n",
    "    \n",
    "    return t"
   ]
  },
  {
   "cell_type": "code",
   "execution_count": 105,
   "metadata": {},
   "outputs": [
    {
     "name": "stdout",
     "output_type": "stream",
     "text": [
      "[  3.04335328  26.10905047]\n"
     ]
    }
   ],
   "source": [
    "[W_MLE,beta] = MLE_train(train_x, train_y)\n",
    "print(W_MLE)"
   ]
  },
  {
   "cell_type": "code",
   "execution_count": 106,
   "metadata": {},
   "outputs": [
    {
     "name": "stdout",
     "output_type": "stream",
     "text": [
      "MSE    136163.965089\n",
      "MAE       368.601623\n",
      "SD         17.228136\n",
      "dtype: float64\n"
     ]
    },
    {
     "data": {
      "image/png": "[encoded data removed]",
      "text/plain": [
       "<matplotlib.figure.Figure at 0xd130b449b0>"
      ]
     },
     "metadata": {},
     "output_type": "display_data"
    }
   ],
   "source": [
    "t = MLE_test(test_x, test_y, W_MLE)\n",
    "# draw the train data\n",
    "plt.plot(train_x[:,0], train_y, 'o')\n",
    "plt.plot(train_x[:,0], train_x.dot(W_MLE.T))\n",
    "plt.show()"
   ]
  },
  {
   "cell_type": "markdown",
   "metadata": {},
   "source": [
    "# Maximum A Posteriori"
   ]
  },
  {
   "cell_type": "code",
   "execution_count": 107,
   "metadata": {
    "collapsed": true
   },
   "outputs": [],
   "source": [
    "def MAP_train(x, y, beta, prior_mu_w=None, prior_cov_w=None):\n",
    "    \"\"\"\n",
    "    Function: Calculate the weight and beta by Maximum A Posteriori\n",
    "    Input:    \n",
    "              x:                Design matrix of training data, size:[num_sample dimension]\n",
    "              y:                Training real value, size: [num_sample 1]\n",
    "              beta:             The precision of Gaussian random variables\n",
    "              prior_mu_w:       The mean of conjugate prior distribution, size: [dimension 1]\n",
    "              prior_cov_w:      The covariance of conjugate prior distribution, size: [dimension dimension]\n",
    "    Output:   \n",
    "              W:                The weight which be calculated by Maximum A Posteriori\n",
    "    \"\"\"\n",
    "    \n",
    "    m, d = x.shape \n",
    "    # The variable m is the number of the training data. \n",
    "    #The variable d is the dimension of the training data.\n",
    "    if prior_mu_w is None:  prior_mu_w = np.zeros((d,1))\n",
    "    if prior_cov_w is None: prior_cov_w = 1*np.eye(d)\n",
    "    \n",
    "    alpha = np.diag(prior_cov_w)\n",
    "    \n",
    "    lamb = alpha/beta\n",
    "    # Your code\n",
    "    # Here you should calculate the weight.\n",
    "    W = linalg.pinv(x.T.dot(x)+lamb).dot(x.T).dot(y)\n",
    "    \n",
    "    return W"
   ]
  },
  {
   "cell_type": "code",
   "execution_count": 108,
   "metadata": {
    "collapsed": true
   },
   "outputs": [],
   "source": [
    "def MAP_test(x, y, W, problem_type='regression', retained_digit=0):\n",
    "    \"\"\"\n",
    "    Function: Predict the testing data\n",
    "    Input:    \n",
    "              x:                Design matrix of training data, size:[num_sample dimension]\n",
    "              y:                Training real value, size: [num_sample 1]\n",
    "              W:                The weight which be calculated by Maximum A Posteriori\n",
    "              problem_type:     The type of problem which you want to slove. Only regression and classification\n",
    "              retained_digit:   The parameter used to classification\n",
    "    Output:   \n",
    "              t:                Prediction of testing data\n",
    "    \"\"\"\n",
    "    \n",
    "    # Your code\n",
    "    # Here, the variable t is the prediction of testing data, and you should calculate it.\n",
    "    t = W.T.dot(x)+ retained_digit\n",
    "    \n",
    "    # Three kinds of errors\n",
    "    er = t - y\n",
    "    MSE = (er**2).mean()                      # Mean Squared Error\n",
    "    MAE = abs(er).mean()                      # Average Absolute Error\n",
    "    SD = np.sqrt((( er-er.mean())**2).mean()) # Error Standard Deviation\n",
    "    \n",
    "    if problem_type=='classification':\n",
    "        acc = np.equal(np.round(t, retained_digit), y).mean() * 100\n",
    "        text = \"The Linear Regression's accuracy is %.2f%%.\" %(acc)\n",
    "        print(text)\n",
    "    \n",
    "    obj = pd.Series([MSE,MAE,SD], index=['MSE','MAE','SD'])\n",
    "    print(obj)\n",
    "    \n",
    "    return t"
   ]
  },
  {
   "cell_type": "code",
   "execution_count": 109,
   "metadata": {},
   "outputs": [
    {
     "name": "stdout",
     "output_type": "stream",
     "text": [
      "[  3.13435142  13.426341  ]\n"
     ]
    }
   ],
   "source": [
    "W_MAP = MAP_train(train_x, train_y, beta=1, prior_cov_w=1*np.eye(2))\n",
    "print(W_MAP)"
   ]
  },
  {
   "cell_type": "code",
   "execution_count": 110,
   "metadata": {},
   "outputs": [
    {
     "name": "stdout",
     "output_type": "stream",
     "text": [
      "MSE    135793.378497\n",
      "MAE       368.070567\n",
      "SD         17.816736\n",
      "dtype: float64\n"
     ]
    },
    {
     "data": {
      "image/png": "[encoded data removed]",
      "text/plain": [
       "<matplotlib.figure.Figure at 0xd130aea7f0>"
      ]
     },
     "metadata": {},
     "output_type": "display_data"
    }
   ],
   "source": [
    "t = MLE_test(test_x, test_y, W_MAP)\n",
    "# draw the train data\n",
    "plt.plot(train_x[:,0], train_y, 'o')\n",
    "plt.plot(train_x[:,0], train_x.dot(W_MAP.T))\n",
    "plt.show()"
   ]
  },
  {
   "cell_type": "markdown",
   "metadata": {},
   "source": [
    "# Bayesian linear regression"
   ]
  },
  {
   "cell_type": "code",
   "execution_count": 111,
   "metadata": {},
   "outputs": [],
   "source": [
    "def BLR_train(x, y, beta=100, prior_mu_w=None, prior_cov_w=None):\n",
    "    \"\"\"\n",
    "    Function: Calculate the expectation and covariance of posterior distribution\n",
    "    Input:    \n",
    "              x:              Design matrix of training data, size:[num_sample dimension]\n",
    "              y:                Training Label, size: [num_sample 1]\n",
    "              beta:             The precision of Gaussian random variables\n",
    "              prior_mu_w:       The mean of conjugate prior distribution, size: [dimension 1]\n",
    "              prior_cov_w:      The covariance of conjugate prior distribution, size: [dimension dimension]\n",
    "    Output:   \n",
    "              posterior_mu_w:   The expectation of posterior distribution\n",
    "              posterior_cov_w:  The covariance of posterior distribution\n",
    "    \"\"\"\n",
    "    y = y[:, np.newaxis]\n",
    "    m, d = x.shape \n",
    "    # The variable m is the number of the training data. \n",
    "    #The variable d is the dimension of the training data.\n",
    "    if prior_mu_w == None:  prior_mu_w = np.zeros((d,1))\n",
    "    if prior_cov_w == None: prior_cov_w = 0.1*np.eye(d)\n",
    "    \n",
    "    # your code. \n",
    "    # Here, you should calculate the expectation posterior_mu_w and the covariance posterior_cov_w of posterior distribution\n",
    "    posterior_cov_w = beta*posterior_mu_w.dot(x.T).dot(y)\n",
    "    posterior_mu_w = linalg.pinv(np.diag(alpha)+beta*x.T.dot(x))\n",
    "    \n",
    "    return posterior_mu_w, posterior_cov_w"
   ]
  },
  {
   "cell_type": "code",
   "execution_count": 112,
   "metadata": {},
   "outputs": [],
   "source": [
    "def BLR_test(x, y, posterior_mu_w, posterior_cov_w, problem_type='regression', \n",
    "                  beta=100, sampling_size=1000, output_type='mode', retained_digit=0):\n",
    "    \"\"\"\n",
    "    Function: Predict the testing data\n",
    "    Input:\n",
    "              x:              Design matrix of testing data\n",
    "              y:                Testing Label\n",
    "              posterior_mu_w:   The expectation of posterior distribution\n",
    "              posterior_cov_w:  The covariance of posterior distribution\n",
    "              problem_type:     The type of problem which you want to slove. Only regression and classification\n",
    "              beta:             The precision of Gaussian random variables\n",
    "              sampling_size:    The sampling size of weight w\n",
    "              output_type:      There are three types of output\n",
    "                   'mode':      The mode of each data prediction sequences\n",
    "                   'mean':      The mean of each data prediction sequences \n",
    "                    'all':      Each intact data prediction sequences \n",
    "    Output:\n",
    "              t:                Prediction of testing data\n",
    "    \"\"\"\n",
    "    # your code\n",
    "    # Here, You need to sample the weight w from its distribution and calculate the prediction of testing data.\n",
    "    # You may use the function \"np.random.multivariate_normal\"  to sample the weight. \n",
    "    # If you don't know how to use the function, you can input \"help(np.random.multivariate_normal)\" or contact us.\n",
    "    posterior_mu_w = posterior_mu_w.reshape(-1)\n",
    "    \n",
    "    w = -beta/2*(np.random.multivariate_normal(y-W.T.dot(x))^2)-alpha/2*W.T.dot(W)\n",
    "    t = w.T.dot(x)+beta\n",
    "    \n",
    "    if output_type=='mean':\n",
    "        t = np.mean(t,1)[:, np.newaxis]\n",
    "    else:\n",
    "        t = pd.DataFrame(np.round(t, retained_digit)).mode(1).as_matrix(columns=None)\n",
    "        t = t[:,0:1]\n",
    "    \n",
    "    # Three kinds of errors\n",
    "    er = t - y\n",
    "    MSE = (er**2).mean()                      # Mean Squared Error\n",
    "    MAE = abs(er).mean()                      # Average Absolute Error\n",
    "    SD = np.sqrt((( er-er.mean())**2).mean()) # Error Standard Deviation\n",
    "    \n",
    "    if problem_type=='classification':\n",
    "        acc = np.equal(np.round(t, retained_digit), y).mean() * 100\n",
    "        text = \"The Linear Regression's accuracy is %.2f%%.\" %(acc)\n",
    "        print(text)\n",
    "    \n",
    "    obj = pd.Series([MSE,MAE,SD], index=['MSE','MAE','SD'])\n",
    "    print(obj)\n",
    "    \n",
    "    if output_type=='all':\n",
    "        return x.dot(w.T)\n",
    "    return t"
   ]
  },
  {
   "cell_type": "code",
   "execution_count": 113,
   "metadata": {},
   "outputs": [
    {
     "ename": "UnboundLocalError",
     "evalue": "local variable 'posterior_mu_w' referenced before assignment",
     "output_type": "error",
     "traceback": [
      "\u001b[1;31m---------------------------------------------------------------------------\u001b[0m",
      "\u001b[1;31mUnboundLocalError\u001b[0m                         Traceback (most recent call last)",
      "\u001b[1;32m<ipython-input-113-42891f9e8ed6>\u001b[0m in \u001b[0;36m<module>\u001b[1;34m()\u001b[0m\n\u001b[1;32m----> 1\u001b[1;33m \u001b[1;33m[\u001b[0m\u001b[0mposterior_mu_w\u001b[0m\u001b[1;33m,\u001b[0m \u001b[0mposterior_cov_w\u001b[0m\u001b[1;33m]\u001b[0m \u001b[1;33m=\u001b[0m \u001b[0mBLR_train\u001b[0m\u001b[1;33m(\u001b[0m\u001b[0mtrain_x\u001b[0m\u001b[1;33m,\u001b[0m \u001b[0mtrain_y\u001b[0m\u001b[1;33m,\u001b[0m \u001b[0mbeta\u001b[0m\u001b[1;33m=\u001b[0m\u001b[1;36m10\u001b[0m\u001b[1;33m)\u001b[0m\u001b[1;33m\u001b[0m\u001b[0m\n\u001b[0m\u001b[0;32m      2\u001b[0m \u001b[0mprint\u001b[0m\u001b[1;33m(\u001b[0m\u001b[0mposterior_mu_w\u001b[0m\u001b[1;33m)\u001b[0m\u001b[1;33m\u001b[0m\u001b[0m\n\u001b[0;32m      3\u001b[0m \u001b[0mprint\u001b[0m\u001b[1;33m(\u001b[0m\u001b[0mposterior_cov_w\u001b[0m\u001b[1;33m)\u001b[0m\u001b[1;33m\u001b[0m\u001b[0m\n",
      "\u001b[1;32m<ipython-input-111-6dc7a2e03f1b>\u001b[0m in \u001b[0;36mBLR_train\u001b[1;34m(x, y, beta, prior_mu_w, prior_cov_w)\u001b[0m\n\u001b[0;32m     21\u001b[0m     \u001b[1;31m# your code.\u001b[0m\u001b[1;33m\u001b[0m\u001b[1;33m\u001b[0m\u001b[0m\n\u001b[0;32m     22\u001b[0m     \u001b[1;31m# Here, you should calculate the expectation posterior_mu_w and the covariance posterior_cov_w of posterior distribution\u001b[0m\u001b[1;33m\u001b[0m\u001b[1;33m\u001b[0m\u001b[0m\n\u001b[1;32m---> 23\u001b[1;33m     \u001b[0mposterior_cov_w\u001b[0m \u001b[1;33m=\u001b[0m \u001b[0mbeta\u001b[0m\u001b[1;33m*\u001b[0m\u001b[0mposterior_mu_w\u001b[0m\u001b[1;33m.\u001b[0m\u001b[0mdot\u001b[0m\u001b[1;33m(\u001b[0m\u001b[0mx\u001b[0m\u001b[1;33m.\u001b[0m\u001b[0mT\u001b[0m\u001b[1;33m)\u001b[0m\u001b[1;33m.\u001b[0m\u001b[0mdot\u001b[0m\u001b[1;33m(\u001b[0m\u001b[0my\u001b[0m\u001b[1;33m)\u001b[0m\u001b[1;33m\u001b[0m\u001b[0m\n\u001b[0m\u001b[0;32m     24\u001b[0m     \u001b[0mposterior_mu_w\u001b[0m \u001b[1;33m=\u001b[0m \u001b[0mlinalg\u001b[0m\u001b[1;33m.\u001b[0m\u001b[0mpinv\u001b[0m\u001b[1;33m(\u001b[0m\u001b[0mnp\u001b[0m\u001b[1;33m.\u001b[0m\u001b[0mdiag\u001b[0m\u001b[1;33m(\u001b[0m\u001b[0malpha\u001b[0m\u001b[1;33m)\u001b[0m\u001b[1;33m+\u001b[0m\u001b[0mbeta\u001b[0m\u001b[1;33m*\u001b[0m\u001b[0mx\u001b[0m\u001b[1;33m.\u001b[0m\u001b[0mT\u001b[0m\u001b[1;33m.\u001b[0m\u001b[0mdot\u001b[0m\u001b[1;33m(\u001b[0m\u001b[0mx\u001b[0m\u001b[1;33m)\u001b[0m\u001b[1;33m)\u001b[0m\u001b[1;33m\u001b[0m\u001b[0m\n\u001b[0;32m     25\u001b[0m \u001b[1;33m\u001b[0m\u001b[0m\n",
      "\u001b[1;31mUnboundLocalError\u001b[0m: local variable 'posterior_mu_w' referenced before assignment"
     ]
    }
   ],
   "source": [
    "[posterior_mu_w, posterior_cov_w] = BLR_train(train_x, train_y, beta=10)\n",
    "print(posterior_mu_w)\n",
    "print(posterior_cov_w)"
   ]
  },
  {
   "cell_type": "code",
   "execution_count": null,
   "metadata": {
    "collapsed": true
   },
   "outputs": [],
   "source": [
    "t = BLR_test(test_x, test_y, posterior_mu_w, posterior_cov_w, sampling_size=100, output_type='all', retained_digit=2)\n",
    "plt.figure(figsize=(10,10)) \n",
    "plt.plot(test_x[:,0], t, 'b')\n",
    "plt.plot(test_x[:,0], test_x.dot(W_real.T), 'r')\n",
    "plt.show()\n",
    "print('The blue lines are the image of  Bayesian Linear Regression estimated parameters. The red one is the true parameters.')"
   ]
  },
  {
   "cell_type": "code",
   "execution_count": null,
   "metadata": {
    "collapsed": true
   },
   "outputs": [],
   "source": []
  },
  {
   "cell_type": "markdown",
   "metadata": {},
   "source": [
    "如果你有什么疑问或者收获, 你可以在这里记录下来.\n",
    "###"
   ]
  },
  {
   "cell_type": "code",
   "execution_count": null,
   "metadata": {
    "collapsed": true
   },
   "outputs": [],
   "source": [
    "师兄，觉得很难，很多看不懂的，只会把公式原原本本地打上去，但是原理一点也不懂"
   ]
  }
 ],
 "metadata": {
  "kernelspec": {
   "display_name": "Python 3",
   "language": "python",
   "name": "python3"
  },
  "language_info": {
   "codemirror_mode": {
    "name": "ipython",
    "version": 3
   },
   "file_extension": ".py",
   "mimetype": "text/x-python",
   "name": "python",
   "nbconvert_exporter": "python",
   "pygments_lexer": "ipython3",
   "version": "3.6.1"
  }
 },
 "nbformat": 4,
 "nbformat_minor": 2
}
